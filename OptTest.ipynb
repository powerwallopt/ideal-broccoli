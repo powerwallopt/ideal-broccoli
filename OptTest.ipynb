{
 "cells": [
  {
   "cell_type": "code",
   "execution_count": 1,
   "metadata": {},
   "outputs": [
    {
     "data": {
      "text/plain": [
       "A JuMP Model\n",
       "Feasibility problem with:\n",
       "Variables: 0\n",
       "Model mode: AUTOMATIC\n",
       "CachingOptimizer state: EMPTY_OPTIMIZER\n",
       "Solver name: AmplNLWriter"
      ]
     },
     "execution_count": 1,
     "metadata": {},
     "output_type": "execute_result"
    }
   ],
   "source": [
    "#using Pkg\n",
    "#Pkg.add(\"AmplNLWriter\")\n",
    "#Pkg.add(\"Bonmin_jll\")\n",
    "#Pkg.add(\"Couenne_jll\")\n",
    "#import Bonmin_jll\n",
    "using JuMP, AmplNLWriter,Couenne_jll\n",
    "#model = Model(() -> AmplNLWriter.Optimizer(\"bonmin\"))\n",
    "model = Model(() -> AmplNLWriter.Optimizer(Couenne_jll.amplexe))\n",
    "#set_attribute(model, \"bonmin.nlp_log_level\", 0)\n",
    "#model = Model(() -> AmplNLWriter.Optimizer(\"bonmin\"))"
   ]
  },
  {
   "cell_type": "code",
   "execution_count": 2,
   "metadata": {},
   "outputs": [
    {
     "name": "stdout",
     "output_type": "stream",
     "text": [
      "Couenne 0.5.8 -- an Open-Source solver for Mixed Integer Nonlinear Optimization\n",
      "Mailing list: couenne@list.coin-or.org\n",
      "Instructions: http://www.coin-or.org/Couenne\n",
      "couenne: \n",
      "ANALYSIS TEST: Couenne: new cutoff value -0.0000000000e+00 (0 seconds)\n",
      "NLP0012I \n",
      "              Num      Status      Obj             It       time                 Location\n",
      "NLP0014I             1         OPT -25        1 0\n",
      "Couenne: new cutoff value -2.5000000000e+01 (0 seconds)\n",
      "Loaded instance \"C:\\Users\\ysong\\AppData\\Local\\Temp\\jl_sfXEhJ\\model.nl\"\n",
      "Constraints:            1\n",
      "Variables:              2 (0 integer)\n",
      "Auxiliaries:            2 (0 integer)\n",
      "\n",
      "Coin0506I Presolve 0 (-2) rows, 0 (-4) columns and 0 (-4) elements\n",
      "Clp0000I Optimal - objective value -9.99e+12\n",
      "Clp0032I Optimal objective -9.99e+12 - 0 iterations time 0.002, Presolve 0.00\n",
      "Clp0000I Optimal - objective value -9.99e+12\n",
      "Cbc0012I Integer solution of -25 found by Couenne Rounding NLP after 0 iterations and 0 nodes (0.01 seconds)\n",
      "NLP Heuristic: NLP0014I             2         OPT -25        1 0\n",
      "no solution.\n",
      "Clp0000I Optimal - objective value -9.99e+12\n",
      "Optimality Based BT: 0 improved bounds\n",
      "Probing: 3 improved bounds\n",
      "Cbc0031I 2 added rows had average density of 3\n",
      "Cbc0013I At root node, 3 cuts changed objective from -9.99e+12 to -25.000015 in 7 passes\n",
      "Cbc0014I Cut generator 0 (Couenne convexifier cuts) - 11 row cuts average 3.0 elements, 7 column cuts (7 active)\n",
      "Cbc0001I Search completed - best objective -25, took 8 iterations and 0 nodes (0.01 seconds)\n",
      "Cbc0035I Maximum depth 0, 0 variables fixed on reduced cost\n",
      "\b\n",
      " \t\"Finished\"\n",
      "\n",
      "Linearization cuts added at root node:          2\n",
      "Linearization cuts added in total:              2  (separation time: 0s)\n",
      "Total solve time:                           0.009s (0.009s in branch-and-bound)\n",
      "Lower bound:                                  -25\n",
      "Upper bound:                                  -25  (gap: 0.00%)\n",
      "Branch-and-bound nodes:                         0\n",
      "LOCALLY_SOLVED\n",
      "25.0\n",
      "[5.0, 5.0]\n"
     ]
    }
   ],
   "source": [
    "#= v = [10, 20, 12, 23, 42]\n",
    "\n",
    "w = [12, 45, 12, 22, 21]\n",
    "\n",
    "@variable(model, x[1:5], Bin)\n",
    "\n",
    "@objective(model, Max, v' * x)\n",
    "\n",
    "@constraint(model, sum(w[i]*x[i]^2 for i in 1:5) <= 45) =#\n",
    "v = [1,1]\n",
    "\n",
    "@variable(model, x[1:2]);\n",
    "\n",
    "@objective(model, Max, x[1]*x[2])\n",
    "\n",
    "@constraint(model,  (x[1]+x[2]) == 10) \n",
    "\n",
    "optimize!(model)\n",
    "\n",
    "println(termination_status(model))\n",
    "\n",
    "println(objective_value(model))\n",
    "\n",
    "println(value.(x))"
   ]
  },
  {
   "cell_type": "code",
   "execution_count": 3,
   "metadata": {},
   "outputs": [
    {
     "data": {
      "text/plain": [
       "2-element Vector{Float64}:\n",
       " 5.0\n",
       " 5.0"
      ]
     },
     "execution_count": 3,
     "metadata": {},
     "output_type": "execute_result"
    }
   ],
   "source": [
    "value.(x)"
   ]
  }
 ],
 "metadata": {
  "kernelspec": {
   "display_name": "Julia (16 threads) 1.6.7",
   "language": "julia",
   "name": "julia-_16-threads_-1.6"
  },
  "language_info": {
   "file_extension": ".jl",
   "mimetype": "application/julia",
   "name": "julia",
   "version": "1.6.7"
  }
 },
 "nbformat": 4,
 "nbformat_minor": 2
}
