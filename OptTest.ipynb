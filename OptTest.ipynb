{
 "cells": [
  {
   "cell_type": "code",
   "execution_count": null,
   "metadata": {},
   "outputs": [],
   "source": [
    "using Pkg\n",
    "#Pkg.add(\"AmplNLWriter\")\n",
    "#Pkg.add(\"Bonmin_jll\")\n",
    "Pkg.add(\"Couenne_jll\")\n",
    "#import Bonmin_jll\n",
    "using JuMP, AmplNLWriter, Couenne_jll\n",
    "#model = Model(() -> AmplNLWriter.Optimizer(Bonmin_jll.amplexe))\n",
    "model = Model(() -> AmplNLWriter.Optimizer(Couenne_jll.amplexe))\n",
    "#set_attribute(model, \"bonmin.nlp_log_level\", 0)\n",
    "#model = Model(() -> AmplNLWriter.Optimizer(\"bonmin\"))"
   ]
  },
  {
   "cell_type": "code",
   "execution_count": null,
   "metadata": {},
   "outputs": [],
   "source": [
    "v = [10, 20, 12, 23, 42]\n",
    "\n",
    "w = [12, 45, 12, 22, 21]\n",
    "\n",
    "@variable(model, x[1:5], Bin)\n",
    "\n",
    "@objective(model, Max, v' * x)\n",
    "\n",
    "@constraint(model, sum(w[i]*x[i]^2 for i in 1:5) <= 45)\n",
    "\n",
    "optimize!(model)\n",
    "\n",
    "println(termination_status(model))\n",
    "\n",
    "println(objective_value(model))\n",
    "\n",
    "println(value.(x))"
   ]
  }
 ],
 "metadata": {
  "kernelspec": {
   "display_name": "Julia (16 threads) 1.6.7",
   "language": "julia",
   "name": "julia-_16-threads_-1.6"
  },
  "language_info": {
   "file_extension": ".jl",
   "mimetype": "application/julia",
   "name": "julia",
   "version": "1.6.7"
  }
 },
 "nbformat": 4,
 "nbformat_minor": 2
}
